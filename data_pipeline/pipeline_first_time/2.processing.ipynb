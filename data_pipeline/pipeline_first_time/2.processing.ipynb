{
 "cells": [
  {
   "cell_type": "code",
   "execution_count": 85,
   "metadata": {},
   "outputs": [],
   "source": [
    "import os\n",
    "import json\n",
    "import pandas as pd\n",
    "import re\n",
    "import matplotlib.pyplot as plt\n",
    "import seaborn as sns"
   ]
  },
  {
   "cell_type": "markdown",
   "metadata": {},
   "source": [
    "# Cleaning Data"
   ]
  },
  {
   "cell_type": "markdown",
   "metadata": {},
   "source": [
    "## performance & fund_detail table"
   ]
  },
  {
   "cell_type": "code",
   "execution_count": 86,
   "metadata": {},
   "outputs": [],
   "source": [
    "dir = '../../data/raw/20231212/funds/'\n",
    "symbol_list = []\n",
    "category = []\n",
    "asset_class = []\n",
    "inception_date = []\n",
    "min_inv = []\n",
    "exp_ratio = []\n",
    "return_ytd = []\n",
    "return_1_year = []\n",
    "return_3_year = []\n",
    "return_5_year = []\n",
    "return_10_year = []\n",
    "return_inception = []\n",
    "return_bench_ytd = []\n",
    "return_bench_1_year = []\n",
    "return_bench_3_year = []\n",
    "return_bench_5_year = []\n",
    "return_bench_10_year = []\n",
    "return_bench_inception = []\n",
    "risk_level = []\n",
    "product_summary = []\n",
    "date = []\n",
    "price = []\n",
    "\n",
    "for filename in os.listdir(dir):\n",
    "    file_path = os.path.join(dir,filename)\n",
    "    with open(file_path,'r') as f:\n",
    "        fund_dict = json.load(f)\n",
    "    pattern = r'\\/([A-Z]+)\\.json'\n",
    "    match = re.search(pattern, file_path)\n",
    "    symbol = match.group(1)\n",
    "    symbol_list.append(symbol)\n",
    "    \n",
    "    category.append(fund_dict['key_fact_table']['Category'])\n",
    "    asset_class.append(fund_dict['key_fact_table']['Asset class'])\n",
    "\n",
    "    if 'product_summary' in fund_dict:\n",
    "        product_summary.append(fund_dict['product_summary'])\n",
    "    else:\n",
    "        product_summary.append(\"NA\")\n",
    "\n",
    "    if 'Inception date' in fund_dict['key_fact_table']:\n",
    "        inception_date.append(fund_dict['key_fact_table']['Inception date'])\n",
    "    else:\n",
    "        inception_date.append(None)\n",
    "\n",
    "    if 'risk_level' in fund_dict:\n",
    "        risk_level.append(fund_dict['risk_level'])\n",
    "    else:\n",
    "        risk_level.append(None)\n",
    "\n",
    "    if 'perf_table' in fund_dict:\n",
    "        perf_table = fund_dict['perf_table']\n",
    "\n",
    "        if symbol in perf_table:\n",
    "            symbol_key = symbol\n",
    "        elif symbol+'1' in perf_table:\n",
    "            symbol_key = symbol + '1'\n",
    "        elif symbol+'2' in perf_table:\n",
    "            symbol_key = symbol+'2'\n",
    "        elif symbol+'4' in perf_table:\n",
    "            symbol_key = symbol+'4'\n",
    "        else:\n",
    "            symbol_key = symbol+' (Market price)'\n",
    "        \n",
    "        if 'Benchmark1' in perf_table:\n",
    "            benchmark_key = 'Benchmark1'\n",
    "        elif 'Benchmark3' in perf_table:\n",
    "            benchmark_key = 'Benchmark3'\n",
    "        else:\n",
    "            benchmark_key = 'Benchmark'\n",
    "\n",
    "        for row in zip(perf_table['index'],perf_table[symbol_key],perf_table[benchmark_key]):\n",
    "            if row[0]==\"YTD\":\n",
    "                return_ytd.append(row[1])\n",
    "                return_bench_ytd.append(row[2])\n",
    "            if row[0]==\"1-yr\":\n",
    "                return_1_year.append(row[1])\n",
    "                return_bench_1_year.append(row[2])\n",
    "            if row[0]==\"3-yr\":\n",
    "                return_3_year.append(row[1])\n",
    "                return_bench_3_year.append(row[2])\n",
    "            if row[0]==\"5-yr\":\n",
    "                return_5_year.append(row[1])\n",
    "                return_bench_5_year.append(row[2])\n",
    "            if row[0]==\"10-yr\":\n",
    "                return_10_year.append(row[1])\n",
    "                return_bench_10_year.append(row[2])\n",
    "            if row[0]==\"Since inception\":\n",
    "                return_inception.append(row[1]) \n",
    "                return_bench_inception.append(row[2])\n",
    "    else:\n",
    "        return_ytd.append(None)\n",
    "        return_bench_ytd.append(None)\n",
    "        return_1_year.append(None)\n",
    "        return_bench_1_year.append(None)\n",
    "        return_3_year.append(None)\n",
    "        return_bench_3_year.append(None)\n",
    "        return_5_year.append(None)\n",
    "        return_bench_5_year.append(None)\n",
    "        return_10_year.append(None)\n",
    "        return_bench_10_year.append(None)\n",
    "        return_inception.append(None)\n",
    "        return_bench_inception.append(None)\n",
    "\n",
    "    if 'min_investment' in fund_dict:\n",
    "        min_inv.append(fund_dict['min_investment'])\n",
    "    else:\n",
    "        min_inv.append(None)\n",
    "    \n",
    "    if 'exp_ratio' in fund_dict:\n",
    "        exp_ratio.append(fund_dict['exp_ratio'])\n",
    "    else:\n",
    "        exp_ratio.append(None)\n",
    "\n",
    "    if 'date' in fund_dict['historical_price_table'] and 'price' in fund_dict['historical_price_table']:\n",
    "        date.append(fund_dict['historical_price_table']['date'])\n",
    "        price.append(fund_dict['historical_price_table']['price'])\n",
    "    else:\n",
    "        date.append(None)\n",
    "        price.append(None)"
   ]
  },
  {
   "cell_type": "code",
   "execution_count": 87,
   "metadata": {},
   "outputs": [],
   "source": [
    "table_col = ['symbol','category','product_summary','asset_class','inception_date','minimum_investment','expense_ratio','fund_return_ytd','average_annual_fund_return_for_1_year','average_annual_fund_return_for_3_year','average_annual_fund_return_for_5_year','average_annual_fund_return_for_10_year','average_annual_fund_return_since_inception','benchmark_return_ytd','average_annual_benchmark_return_for_1_year','average_annual_benchmark_return_for_3_year','average_annual_benchmark_return_for_5_year','average_annual_benchmark_return_for_10_year','average_annual_benchmark_return_since_inception','risk_level','date','price']\n",
    "\n",
    "fund_df = pd.DataFrame(columns=table_col,data=list(zip(symbol_list,category,product_summary,asset_class,inception_date,min_inv,exp_ratio,return_ytd,return_1_year,return_3_year,return_5_year,return_10_year,return_inception,return_bench_ytd,return_bench_1_year,return_bench_3_year,return_bench_5_year,return_bench_10_year,return_bench_inception,risk_level,date,price)))"
   ]
  },
  {
   "cell_type": "code",
   "execution_count": 88,
   "metadata": {},
   "outputs": [],
   "source": [
    "def perc_to_decimal(string):\n",
    "    if string:\n",
    "        return round(float((string.strip().replace('%','')))/100,5)\n",
    "    else:\n",
    "        return string"
   ]
  },
  {
   "cell_type": "code",
   "execution_count": 89,
   "metadata": {},
   "outputs": [],
   "source": [
    "def clean_risk_level(string):\n",
    "    risk_level = int(string.strip())\n",
    "    if risk_level == 1:\n",
    "        return 'Conservative'\n",
    "    elif risk_level == 2:\n",
    "        return 'Conservative to Moderate'\n",
    "    elif risk_level == 3:\n",
    "        return 'Moderate'\n",
    "    elif risk_level == 4:\n",
    "        return 'Moderate to Aggressive'\n",
    "    else:\n",
    "        return 'Aggressive'"
   ]
  },
  {
   "cell_type": "code",
   "execution_count": 90,
   "metadata": {},
   "outputs": [],
   "source": [
    "def clean_min_investment(string):\n",
    "    return int(float(string.replace(',','').replace('$','')))"
   ]
  },
  {
   "cell_type": "code",
   "execution_count": 93,
   "metadata": {},
   "outputs": [
    {
     "name": "stdout",
     "output_type": "stream",
     "text": [
      "expense_ratio\n",
      "fund_return_ytd\n",
      "average_annual_fund_return_for_1_year\n",
      "average_annual_fund_return_for_3_year\n",
      "average_annual_fund_return_for_5_year\n",
      "average_annual_fund_return_for_10_year\n",
      "average_annual_fund_return_since_inception\n",
      "benchmark_return_ytd\n",
      "average_annual_benchmark_return_for_1_year\n",
      "average_annual_benchmark_return_for_3_year\n",
      "average_annual_benchmark_return_for_5_year\n",
      "average_annual_benchmark_return_for_10_year\n",
      "average_annual_benchmark_return_since_inception\n"
     ]
    }
   ],
   "source": [
    "# Drop all funds with missing information\n",
    "fund_df.dropna(subset=['date','price'],inplace=True)\n",
    "\n",
    "# Remove funds with null min_inv --> Closed not allowed to be bought by investor anymore\n",
    "cleaned_df = fund_df.copy()\n",
    "cleaned_df = cleaned_df[cleaned_df['minimum_investment'].notna()]\n",
    "\n",
    "# replace unicode dash with Null value\n",
    "cleaned_df = cleaned_df.replace('\\u2014',None)\n",
    "\n",
    "# clean risk level\n",
    "cleaned_df['risk_level'] = cleaned_df['risk_level'].apply(clean_risk_level)\n",
    "\n",
    "# convert percentages string to float\n",
    "percentage_cols = ['expense_ratio','fund_return_ytd','average_annual_fund_return_for_1_year','average_annual_fund_return_for_3_year','average_annual_fund_return_for_5_year','average_annual_fund_return_for_10_year','average_annual_fund_return_since_inception','benchmark_return_ytd','average_annual_benchmark_return_for_1_year','average_annual_benchmark_return_for_3_year','average_annual_benchmark_return_for_5_year','average_annual_benchmark_return_for_10_year','average_annual_benchmark_return_since_inception']\n",
    "for col in percentage_cols:\n",
    "    print(col)\n",
    "    cleaned_df[col] = cleaned_df[col].apply(perc_to_decimal)\n",
    "\n",
    "cleaned_df['inception_date'] = pd.to_datetime(cleaned_df['inception_date'])\n",
    "\n",
    "cleaned_df['minimum_investment'] = cleaned_df['minimum_investment'].apply(clean_min_investment)"
   ]
  },
  {
   "cell_type": "code",
   "execution_count": 95,
   "metadata": {},
   "outputs": [
    {
     "name": "stdout",
     "output_type": "stream",
     "text": [
      "<class 'pandas.core.frame.DataFrame'>\n",
      "Index: 339 entries, 0 to 349\n",
      "Data columns (total 22 columns):\n",
      " #   Column                                           Non-Null Count  Dtype         \n",
      "---  ------                                           --------------  -----         \n",
      " 0   symbol                                           339 non-null    object        \n",
      " 1   category                                         339 non-null    object        \n",
      " 2   product_summary                                  339 non-null    object        \n",
      " 3   asset_class                                      339 non-null    object        \n",
      " 4   inception_date                                   339 non-null    datetime64[ns]\n",
      " 5   minimum_investment                               339 non-null    int64         \n",
      " 6   expense_ratio                                    339 non-null    float64       \n",
      " 7   fund_return_ytd                                  335 non-null    float64       \n",
      " 8   average_annual_fund_return_for_1_year            335 non-null    float64       \n",
      " 9   average_annual_fund_return_for_3_year            324 non-null    float64       \n",
      " 10  average_annual_fund_return_for_5_year            312 non-null    float64       \n",
      " 11  average_annual_fund_return_for_10_year           273 non-null    float64       \n",
      " 12  average_annual_fund_return_since_inception       337 non-null    float64       \n",
      " 13  benchmark_return_ytd                             337 non-null    float64       \n",
      " 14  average_annual_benchmark_return_for_1_year       337 non-null    float64       \n",
      " 15  average_annual_benchmark_return_for_3_year       334 non-null    float64       \n",
      " 16  average_annual_benchmark_return_for_5_year       333 non-null    float64       \n",
      " 17  average_annual_benchmark_return_for_10_year      323 non-null    float64       \n",
      " 18  average_annual_benchmark_return_since_inception  315 non-null    float64       \n",
      " 19  risk_level                                       339 non-null    object        \n",
      " 20  date                                             339 non-null    object        \n",
      " 21  price                                            339 non-null    object        \n",
      "dtypes: datetime64[ns](1), float64(13), int64(1), object(7)\n",
      "memory usage: 60.9+ KB\n"
     ]
    }
   ],
   "source": [
    "cleaned_df.info()"
   ]
  },
  {
   "cell_type": "code",
   "execution_count": 96,
   "metadata": {},
   "outputs": [],
   "source": [
    "perf_df = cleaned_df[['symbol','fund_return_ytd','average_annual_fund_return_for_1_year','average_annual_fund_return_for_3_year','average_annual_fund_return_for_5_year','average_annual_fund_return_for_10_year','average_annual_fund_return_since_inception','benchmark_return_ytd','average_annual_benchmark_return_for_1_year','average_annual_benchmark_return_for_3_year','average_annual_benchmark_return_for_5_year','average_annual_benchmark_return_for_10_year','average_annual_benchmark_return_since_inception']].reset_index(drop=True).copy()\n",
    "fund_detail_df = cleaned_df[['symbol','category','product_summary','asset_class','inception_date','minimum_investment','expense_ratio','risk_level']].reset_index(drop=True).copy()\n",
    "perf_df.to_csv('../../data/processed/20231212/perf.csv')\n",
    "fund_detail_df.to_csv('../../data/processed/20231212/fund_detail.csv')"
   ]
  },
  {
   "cell_type": "code",
   "execution_count": 97,
   "metadata": {},
   "outputs": [],
   "source": [
    "dir = '../../data/raw/20231212/funds/'\n",
    "sec_symbol_list = []\n",
    "sec_list = []\n",
    "sec_alloc = []\n",
    "reg_symbol_list = []\n",
    "reg_list = []\n",
    "reg_alloc = []\n",
    "\n",
    "\n",
    "for filename in os.listdir(dir):\n",
    "    file_path = os.path.join(dir,filename)\n",
    "    with open(file_path,'r') as f:\n",
    "        fund_dict = json.load(f)\n",
    "    pattern = r'\\/([A-Z]+)\\.json'\n",
    "    match = re.search(pattern, file_path)\n",
    "    symbol = match.group(1)\n",
    "    symbol_list.append(symbol)\n",
    "    \n",
    "    if 'weighted_exposure_table' in fund_dict:\n",
    "        if ' Sectors' in fund_dict['weighted_exposure_table']:\n",
    "            for sec,alloc in zip(fund_dict['weighted_exposure_table'][' Sectors'][' Sectors'],fund_dict['weighted_exposure_table'][' Sectors'][symbol]):\n",
    "                sec_symbol_list.append(symbol)\n",
    "                sec_list.append(sec.strip())\n",
    "                sec_alloc.append(alloc.strip())\n",
    "                \n",
    "        if ' Regions' in fund_dict['weighted_exposure_table']:\n",
    "            for reg,alloc in zip(fund_dict['weighted_exposure_table'][' Regions'][' Regions'],fund_dict['weighted_exposure_table'][' Regions'][symbol]):\n",
    "                reg_symbol_list.append(symbol)\n",
    "                reg_list.append(reg.strip())\n",
    "                reg_alloc.append(alloc.strip())\n",
    "        else:\n",
    "            reg_symbol_list.append(symbol)\n",
    "            reg_list.append('North America')\n",
    "            reg_alloc.append(\"100%\")\n",
    "        \n"
   ]
  },
  {
   "cell_type": "code",
   "execution_count": 98,
   "metadata": {},
   "outputs": [],
   "source": [
    "sector_df = pd.DataFrame({'symbol':sec_symbol_list,'sector':sec_list,'allocation':sec_alloc})\n",
    "region_df = pd.DataFrame({'symbol':reg_symbol_list,'region':reg_list,'allocation':reg_alloc})"
   ]
  },
  {
   "cell_type": "code",
   "execution_count": 99,
   "metadata": {},
   "outputs": [],
   "source": [
    "sector_df['allocation'] = sector_df['allocation'].apply(perc_to_decimal)\n",
    "region_df['allocation'] = region_df['allocation'].apply(perc_to_decimal)\n",
    "\n",
    "valid_symbols = cleaned_df['symbol'].tolist()\n",
    "\n",
    "sector_df = sector_df[sector_df['symbol'].isin(valid_symbols)].reset_index(drop=True)\n",
    "region_df = region_df[region_df['symbol'].isin(valid_symbols)].reset_index(drop=True)"
   ]
  },
  {
   "cell_type": "code",
   "execution_count": 100,
   "metadata": {},
   "outputs": [],
   "source": [
    "sector_df.to_csv('../../data/processed/20231212/sector.csv')\n",
    "region_df.to_csv('../../data/processed/20231212/region.csv')"
   ]
  },
  {
   "cell_type": "code",
   "execution_count": 109,
   "metadata": {},
   "outputs": [],
   "source": [
    "dir = '../../data/raw/20231212/funds/'\n",
    "symbol_list = []\n",
    "date_list = []\n",
    "price_list = []\n",
    "\n",
    "for filename in os.listdir(dir):\n",
    "    file_path = os.path.join(dir,filename)\n",
    "    with open(file_path,'r') as f:\n",
    "        fund_dict = json.load(f)\n",
    "    pattern = r'\\/([A-Z]+)\\.json'\n",
    "    match = re.search(pattern, file_path)\n",
    "    symbol = match.group(1)\n",
    "    \n",
    "    if 'historical_price_table' in fund_dict:\n",
    "        if 'date' in fund_dict['historical_price_table'] and 'price' in fund_dict['historical_price_table']:\n",
    "            for date,price in zip(fund_dict['historical_price_table']['date'],fund_dict['historical_price_table']['price']):\n",
    "                symbol_list.append(symbol)\n",
    "                date_list.append(date.strip())\n",
    "                price_list.append(float(price.strip().replace('$','')))"
   ]
  },
  {
   "cell_type": "code",
   "execution_count": 122,
   "metadata": {},
   "outputs": [],
   "source": [
    "price_df = pd.DataFrame({'symbol':symbol_list,'date':date_list,'price':price_list})\n",
    "price_df = price_df[price_df.symbol.isin(valid_symbols)].reset_index(drop=True)\n",
    "price_df['date'] = pd.to_datetime(price_df['date'])\n",
    "\n",
    "price_df.to_csv('../../data/processed/20231212/price.csv')"
   ]
  },
  {
   "cell_type": "code",
   "execution_count": null,
   "metadata": {},
   "outputs": [],
   "source": []
  }
 ],
 "metadata": {
  "kernelspec": {
   "display_name": "InvestoGPT",
   "language": "python",
   "name": "python3"
  },
  "language_info": {
   "codemirror_mode": {
    "name": "ipython",
    "version": 3
   },
   "file_extension": ".py",
   "mimetype": "text/x-python",
   "name": "python",
   "nbconvert_exporter": "python",
   "pygments_lexer": "ipython3",
   "version": "3.9.18"
  }
 },
 "nbformat": 4,
 "nbformat_minor": 2
}
