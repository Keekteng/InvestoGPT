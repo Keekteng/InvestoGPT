{
 "cells": [
  {
   "cell_type": "code",
   "execution_count": 252,
   "metadata": {},
   "outputs": [],
   "source": [
    "import pandas as pd\n",
    "from openai import OpenAI\n",
    "import os\n",
    "import numpy as np\n",
    "import re"
   ]
  },
  {
   "cell_type": "markdown",
   "metadata": {},
   "source": [
    "## Store Fund Details in Vector Store\n",
    "- Relevant information will be retrieved from the store to generate portfolio recommendation to user\n",
    "- As of now OpenAI can only handle .json for Retrieval Tools"
   ]
  },
  {
   "cell_type": "code",
   "execution_count": 253,
   "metadata": {},
   "outputs": [],
   "source": [
    "fund_detail_df = pd.read_csv('../data/processed/20240223/fund_detail.csv')"
   ]
  },
  {
   "cell_type": "code",
   "execution_count": 254,
   "metadata": {},
   "outputs": [],
   "source": [
    "def clean_asset_class(asset_class):\n",
    "    if 'Stock' in asset_class:\n",
    "        return 'Equity'\n",
    "    elif 'Bond' in asset_class:\n",
    "        return 'Fixed Income'\n",
    "    else:\n",
    "        return None"
   ]
  },
  {
   "cell_type": "code",
   "execution_count": 255,
   "metadata": {},
   "outputs": [],
   "source": [
    "def clean_risk_level(risk_level):\n",
    "    if risk_level == 'Conservative':\n",
    "        return 1\n",
    "    elif risk_level == 'Conservative to Moderate':\n",
    "        return 2\n",
    "    elif risk_level == 'Moderate':\n",
    "        return 3\n",
    "    elif risk_level == 'Moderate to Aggressive':\n",
    "        return 4\n",
    "    else:\n",
    "        return 5"
   ]
  },
  {
   "cell_type": "code",
   "execution_count": 256,
   "metadata": {},
   "outputs": [],
   "source": [
    "def clean_product_summary(summary):\n",
    "    if pd.isna(summary):\n",
    "        return 'No Information'\n",
    "    else:\n",
    "        return summary"
   ]
  },
  {
   "cell_type": "code",
   "execution_count": 257,
   "metadata": {},
   "outputs": [],
   "source": [
    "fund_detail_df['asset_class'] = fund_detail_df['asset_class'].apply(clean_asset_class)\n",
    "fund_detail_df = fund_detail_df[fund_detail_df['asset_class'].notna()]\n",
    "fund_detail_df['risk_level'] = fund_detail_df['risk_level'].apply(clean_risk_level)\n",
    "fund_detail_df['product_summary'] = fund_detail_df['product_summary'].apply(clean_product_summary)"
   ]
  },
  {
   "cell_type": "code",
   "execution_count": 258,
   "metadata": {},
   "outputs": [
    {
     "name": "stdout",
     "output_type": "stream",
     "text": [
      "<class 'pandas.core.frame.DataFrame'>\n",
      "Index: 311 entries, 1 to 345\n",
      "Data columns (total 8 columns):\n",
      " #   Column           Non-Null Count  Dtype  \n",
      "---  ------           --------------  -----  \n",
      " 0   Unnamed: 0       311 non-null    int64  \n",
      " 1   symbol           311 non-null    object \n",
      " 2   category         311 non-null    object \n",
      " 3   product_summary  311 non-null    object \n",
      " 4   asset_class      311 non-null    object \n",
      " 5   inception_date   311 non-null    object \n",
      " 6   expense_ratio    311 non-null    float64\n",
      " 7   risk_level       311 non-null    int64  \n",
      "dtypes: float64(1), int64(2), object(5)\n",
      "memory usage: 21.9+ KB\n"
     ]
    }
   ],
   "source": [
    "fund_detail_df.info()"
   ]
  },
  {
   "cell_type": "code",
   "execution_count": 259,
   "metadata": {},
   "outputs": [],
   "source": [
    "region_df = pd.read_csv('../data/processed/20240223/region.csv')\n",
    "sector_df = pd.read_csv('../data/processed/20240223/sector.csv')"
   ]
  },
  {
   "cell_type": "code",
   "execution_count": 260,
   "metadata": {},
   "outputs": [],
   "source": [
    "region_df = region_df.groupby('symbol')['region'].apply(list).reset_index()\n",
    "sector_df = sector_df.groupby('symbol')['sector'].apply(list).reset_index()"
   ]
  },
  {
   "cell_type": "code",
   "execution_count": 261,
   "metadata": {},
   "outputs": [],
   "source": [
    "fund_detail_df = pd.merge(left=fund_detail_df[['symbol','category','product_summary','asset_class','risk_level']],right=region_df,how='left')\n",
    "fund_detail_df = pd.merge(left=fund_detail_df,right=sector_df,how='left')\n",
    "fund_detail_df.to_csv('fund_details.csv')\n",
    "fund_detail_df = pd.read_csv('fund_details.csv')"
   ]
  },
  {
   "cell_type": "code",
   "execution_count": 262,
   "metadata": {},
   "outputs": [],
   "source": [
    "import csv\n",
    "import json\n",
    "\n",
    "with open('fund_details.csv', newline='') as csvfile:\n",
    "    reader = csv.DictReader(csvfile)\n",
    "    data = [row for row in reader]\n",
    "\n",
    "# Filter out the empty key-value pair from each dictionary in the list\n",
    "data = [{k: v for k, v in row.items() if k} for row in data]\n",
    "\n",
    "with open('fund_details.json', 'w') as json_file:\n",
    "    json.dump(data, json_file)"
   ]
  },
  {
   "cell_type": "markdown",
   "metadata": {},
   "source": [
    "# CreatingOpenAI Assistant"
   ]
  },
  {
   "cell_type": "code",
   "execution_count": 263,
   "metadata": {},
   "outputs": [],
   "source": [
    "API_KEY = os.environ['openai_api_key']"
   ]
  },
  {
   "cell_type": "code",
   "execution_count": 264,
   "metadata": {},
   "outputs": [],
   "source": [
    "client = OpenAI(api_key=API_KEY)"
   ]
  },
  {
   "cell_type": "code",
   "execution_count": 265,
   "metadata": {},
   "outputs": [],
   "source": [
    "instruction = \"\"\"You are a financial advisor who excels in adjusting baseline investment portfolio to better suit user's investment preferences. \n",
    "\n",
    "You will be provided with a baseline portfolio in a format similar to the one delimited by triple quote below. Each symbol represents a fund in the portfolio. The % Allocation for all funds must add up to 100% at all time.\n",
    "The number of funds in a baseline portfolio could range from 2 to 4.\n",
    "\n",
    "Baseline Portfolio Example\n",
    "\\\"\\\"\\\"\n",
    "Symbol : VTSAX\n",
    "Asset Class : Equity\n",
    "% Allocation : 48.90%\n",
    "Risk Level : 4\n",
    "\n",
    "Symbol :  VTIAX\n",
    "Asset Class : Equity\n",
    "% Allocation : 31.80%\n",
    "Risk Level : 5\n",
    "\n",
    "Symbol : VTBIX\n",
    "Asset Class : Fixed Income\n",
    "% Allocation : 13.20%\n",
    "Risk Level : 2\n",
    "\n",
    "Symbol : VTILX\n",
    "Asset Class : Fixed Income\n",
    "% Allocation : 6.10%\n",
    "Risk Level : 2\n",
    "\\\"\\\"\\\"\n",
    "You will also be given the user's investment preferences in a format similar to the one delimited by triple quote below. \n",
    "\n",
    "User's Investment Preferences Example\n",
    "\\\"\\\"\\\"\n",
    "I would like to invest in ESG funds that consider environmental, social, and governance issues.\n",
    "\\\"\\\"\\\"\n",
    "\n",
    "You are to strictly follow the steps delimited by triple quote below in chronological order to determine if it is required for you to adjust Baseline Portfolio to suit User's Investment Preference.\n",
    "\n",
    "Remember your are only to adjust the baseline portfolio IF AND ONLY IF it does not align with User's investment preference. You can ONLY replace ONE of the funds within the baseline portfolio with ONE alternative fund to better match the user's investment objectives if and only if ALL the conditions listed in Step 2 are satisfied. If you do replace the existing fund symbol with alternative fund symbol remember to update the risk level as well. Utilise the provided information to make informed decisions.\n",
    "\n",
    "Steps\n",
    "\\\"\\\"\\\"\n",
    "1. First check if the baseline portfolio aligns with user's investment preferences. If the baseline portfolio is not aligned with User's Investment Preference, you can move on to Step 2. Otherwise, you terminate at the current step and return the baseline portfolio as you answer.\n",
    "\n",
    "2. For each fund symbol in the baseline portfolio.\n",
    "     a. Look for alternative fund symbols that MUST satisfy ALL of the \n",
    "         following conditions strictly using the fund_details.json file \n",
    "         provided.\n",
    "         Condition 1 : Alternative fund symbols must not be the same as \n",
    "         one of the existing fund symbols in the baseline portfolio.\n",
    "         Condition 2 : Alternative fund symbol must satisfy user's \n",
    "          investment preference mentioned above.\n",
    "         Condition 3 : Alternative fund symbol must have the same or \n",
    "         smaller risk level than the corresponding fund symbol in the \n",
    "         baseline portfolio that it is replacing.\n",
    "         Condition 4 : Alternative fund must be of the same asset class as \n",
    "         the corresponding fund in the baseline portfolio that it is \n",
    "         replacing.\n",
    "     b. If there are no such alternative funds, move on to the next fund in \n",
    "         the baseline portfolio and start over from step a. Otherwise \n",
    "         choose the most suitable alternative fund to replace the \n",
    "         corresponding fund in the baseline portfolio.\n",
    "     c. If you have already successfully found one alternative funds to \n",
    "         replace one of the existing funds in the baseline portfolio, you \n",
    "         must terminate Step 3 and return the adjusted baseline portfolio \n",
    "         as your answer in the same format as marked out in the baseline \n",
    "         portfolio.\n",
    "\\\"\\\"\\\"\n",
    "\n",
    "If you are unable to find any alternative fund that satisfies all of the condition marked out in Step 2 for all existing funds in the baseline portfolio, you are to return the baseline portfolio as the answer.\n",
    "\n",
    "You are to STRICTLY provide a RFC8259 compliant JSON response following the Answer Format provided below without deviation. \n",
    "\n",
    "Answer Format:\n",
    "\\\"\\\"\\\"\n",
    "[\n",
    "{\n",
    "  \"Symbol\": \"symbol of the first fund\",\n",
    "  \"Asset Class\": \"asset class of the first fund\",\n",
    "  \"% Allocation\": \"percentage allocation of the first fund\",\n",
    "  \"Risk Level\":\"risk level of the first fund\"\n",
    "},\n",
    "{\n",
    "  \"Symbol\": \"symbol of the second fund\",\n",
    "  \"Asset Class\": \"asset class of the second fund\",\n",
    "  \"% Allocation\": \"percentage allocation of the second fund\",\n",
    "  \"Risk Level\":\"risk level of the second fund\"\n",
    "},{\n",
    "  \"Symbol\": \"symbol of the third fund\",\n",
    "  \"Asset Class\": \"asset class of the third fund\",\n",
    "  \"% Allocation\": \"percentage allocation of the third fund\",\n",
    "  \"Risk Level\":\"risk level of the third fund\"\n",
    "},{\n",
    "  \"Symbol\": \"symbol of the fourth fund\",\n",
    "  \"Asset Class\": \"asset class of the fourth fund\",\n",
    "  \"% Allocation\": \"percentage allocation of the fourth fund\",\n",
    "  \"Risk Level\":\"risk level of the fourth fund\"\n",
    "}\n",
    "]\n",
    "\\\"\\\"\\\"\n",
    "\n",
    "Do NOT include any explanation or accompanying text to show your thought process. Note that you do not necessarily need to include 4 funds in your answers, the number of funds in your answer should be the same as number of funds in your baseline portfolio.\n",
    "\"\"\""
   ]
  },
  {
   "cell_type": "code",
   "execution_count": 266,
   "metadata": {},
   "outputs": [],
   "source": [
    "# Upload a file with an \"assistants\" purpose\n",
    "file = client.files.create(\n",
    "  file=open(\"fund_details.json\", \"rb\"),\n",
    "  purpose='assistants'\n",
    ")"
   ]
  },
  {
   "cell_type": "code",
   "execution_count": 267,
   "metadata": {},
   "outputs": [],
   "source": [
    "assistant = client.beta.assistants.create(\n",
    "    name=\"Financial Advisor\",\n",
    "    instructions=instruction,\n",
    "    tools=[{\"type\": \"retrieval\"}],\n",
    "    model=\"gpt-4-turbo-preview\",\n",
    "    file_ids = [file.id]\n",
    ")"
   ]
  },
  {
   "cell_type": "code",
   "execution_count": 268,
   "metadata": {},
   "outputs": [
    {
     "data": {
      "text/plain": [
       "{'id': 'asst_KRChBi4IWj0QcPWGR7nFy4hC',\n",
       " 'created_at': 1710397346,\n",
       " 'description': None,\n",
       " 'file_ids': ['file-kNhCYwuf7WrrjSn2BTSWe8rO'],\n",
       " 'instructions': 'You are a financial advisor who excels in adjusting baseline investment portfolio to better suit user\\'s investment preferences. \\n\\nYou will be provided with a baseline portfolio in a format similar to the one delimited by triple quote below. Each symbol represents a fund in the portfolio. The % Allocation for all funds must add up to 100% at all time.\\nThe number of funds in a baseline portfolio could range from 2 to 4.\\n\\nBaseline Portfolio Example\\n\"\"\"\\nSymbol : VTSAX\\nAsset Class : Equity\\n% Allocation : 48.90%\\nRisk Level : 4\\n\\nSymbol :  VTIAX\\nAsset Class : Equity\\n% Allocation : 31.80%\\nRisk Level : 5\\n\\nSymbol : VTBIX\\nAsset Class : Fixed Income\\n% Allocation : 13.20%\\nRisk Level : 2\\n\\nSymbol : VTILX\\nAsset Class : Fixed Income\\n% Allocation : 6.10%\\nRisk Level : 2\\n\"\"\"\\nYou will also be given the user\\'s investment preferences in a format similar to the one delimited by triple quote below. \\n\\nUser\\'s Investment Preferences Example\\n\"\"\"\\nI would like to invest in ESG funds that consider environmental, social, and governance issues.\\n\"\"\"\\n\\nYou are to strictly follow the steps delimited by triple quote below in chronological order to determine if it is required for you to adjust Baseline Portfolio to suit User\\'s Investment Preference.\\n\\nRemember your are only to adjust the baseline portfolio IF AND ONLY IF it does not align with User\\'s investment preference. You may only replace one of the funds within the baseline portfolio with an alternative fund to better match the user\\'s investment objectives if and only if ALL the conditions listed in Step 2 are satisfied. If you do replace the existing fund symbol with alternative fund symbol remember to update the risk level as well. Utilise the provided information to make informed decisions.\\n\\nSteps\\n\"\"\"\\n1. First check if the baseline portfolio aligns with user\\'s investment preferences. If the baseline portfolio is not aligned with User\\'s Investment Preference, you can move on to Step 2. Otherwise, you terminate at the current step and return the baseline portfolio as you answer.\\n\\n2. For each fund symbol in the baseline portfolio.\\n     a. Look for alternative fund symbols that MUST satisfy ALL of the \\n         following conditions strictly using the fund_details.json file \\n         provided.\\n         Condition 1 : Alternative fund symbols must not be the same as \\n         one of the existing fund symbols in the baseline portfolio.\\n         Condition 2 : Alternative fund symbol must satisfy user\\'s \\n          investment preference mentioned above.\\n         Condition 3 : Alternative fund symbol must have the same or \\n         smaller risk level than the corresponding fund symbol in the \\n         baseline portfolio that it is replacing.\\n         Condition 4 : Alternative fund must be of the same asset class as \\n         the corresponding fund in the baseline portfolio that it is \\n         replacing.\\n     b. If there are no such alternative funds, move on to the next fund in \\n         the baseline portfolio and start over from step a. Otherwise \\n         choose the most suitable alternative fund to replace the \\n         corresponding fund in the baseline portfolio.\\n     c. If you have already successfully found one alternative funds to \\n         replace one of the existing funds in the baseline portfolio, you \\n         must terminate Step 3 and return the adjusted baseline portfolio \\n         as your answer in the same format as marked out in the baseline \\n         portfolio.\\n\"\"\"\\n\\nIf you are unable to find any alternative fund that satisfies all of the condition marked out in Step 2 for all existing funds in the baseline portfolio, you are to return the baseline portfolio as the answer.\\n\\nYou are to STRICTLY provide a RFC8259 compliant JSON response following the Answer Format provided below without deviation. \\n\\nAnswer Format:\\n\"\"\"\\n[\\n{\\n  \"Symbol\": \"symbol of the first fund\",\\n  \"Asset Class\": \"asset class of the first fund\",\\n  \"% Allocation\": \"percentage allocation of the first fund\",\\n  \"Risk Level\":\"risk level of the first fund\"\\n},\\n{\\n  \"Symbol\": \"symbol of the second fund\",\\n  \"Asset Class\": \"asset class of the second fund\",\\n  \"% Allocation\": \"percentage allocation of the second fund\",\\n  \"Risk Level\":\"risk level of the second fund\"\\n},{\\n  \"Symbol\": \"symbol of the third fund\",\\n  \"Asset Class\": \"asset class of the third fund\",\\n  \"% Allocation\": \"percentage allocation of the third fund\",\\n  \"Risk Level\":\"risk level of the third fund\"\\n},{\\n  \"Symbol\": \"symbol of the fourth fund\",\\n  \"Asset Class\": \"asset class of the fourth fund\",\\n  \"% Allocation\": \"percentage allocation of the fourth fund\",\\n  \"Risk Level\":\"risk level of the fourth fund\"\\n}\\n]\\n\"\"\"\\n\\nDo NOT include any explanation or accompanying text to show your thought process. Note that you do not necessarily need to include 4 funds in your answers, the number of funds in your answer should be the same as number of funds in your baseline portfolio.\\n',\n",
       " 'metadata': {},\n",
       " 'model': 'gpt-4-turbo-preview',\n",
       " 'name': 'Financial Advisor',\n",
       " 'object': 'assistant',\n",
       " 'tools': [{'type': 'retrieval'}]}"
      ]
     },
     "execution_count": 268,
     "metadata": {},
     "output_type": "execute_result"
    }
   ],
   "source": [
    "assistant.model_dump()"
   ]
  },
  {
   "cell_type": "markdown",
   "metadata": {},
   "source": [
    "# Creating One Thread per User"
   ]
  },
  {
   "cell_type": "code",
   "execution_count": 209,
   "metadata": {},
   "outputs": [],
   "source": [
    "user_input = \"\"\"\n",
    "\n",
    "Baseline Portfolio\n",
    "\\\"\\\"\\\"\n",
    "Symbol : VTSAX\n",
    "Asset Class : Equity\n",
    "% Allocation : 48.90%\n",
    "Risk Level : 4\n",
    "\n",
    "Symbol :  VTIAX\n",
    "Asset Class : Equity\n",
    "% Allocation : 31.80%\n",
    "Risk Level : 5\n",
    "\n",
    "Symbol : VTBIX\n",
    "Asset Class : Fixed Income\n",
    "% Allocation : 13.20%\n",
    "Risk Level : 2\n",
    "\n",
    "Symbol : VTILX\n",
    "Asset Class : Fixed Income\n",
    "% Allocation : 6.10%\n",
    "Risk Level : 2\n",
    "\\\"\\\"\\\"\n",
    "\n",
    "User's Investment Preferences\n",
    "\\\"\\\"\\\"\n",
    "I would like to invest in ESG funds that consider environmental, social, and governance issues.\n",
    "\\\"\\\"\\\"\n",
    "\n",
    "\"\"\""
   ]
  },
  {
   "cell_type": "code",
   "execution_count": 210,
   "metadata": {},
   "outputs": [],
   "source": [
    "thread = client.beta.threads.create(\n",
    "    messages = [\n",
    "        {'role':'user',\n",
    "         'content':user_input\n",
    "         }\n",
    "    ]\n",
    ")"
   ]
  },
  {
   "cell_type": "code",
   "execution_count": 211,
   "metadata": {},
   "outputs": [],
   "source": [
    "run = client.beta.threads.runs.create(\n",
    "    thread_id = thread.id,\n",
    "    assistant_id = assistant.id,\n",
    "    model = 'gpt-4-turbo-preview'\n",
    ")"
   ]
  },
  {
   "cell_type": "code",
   "execution_count": 230,
   "metadata": {},
   "outputs": [
    {
     "name": "stdout",
     "output_type": "stream",
     "text": [
      "completed\n"
     ]
    }
   ],
   "source": [
    "run_status = client.beta.threads.runs.retrieve(\n",
    "                    thread_id =thread.id,\n",
    "                    run_id = run.id\n",
    "               )\n",
    "print(run_status.status)"
   ]
  },
  {
   "cell_type": "code",
   "execution_count": 231,
   "metadata": {},
   "outputs": [],
   "source": [
    "messages_list = client.beta.threads.messages.list(thread_id=thread.id)"
   ]
  },
  {
   "cell_type": "code",
   "execution_count": 232,
   "metadata": {},
   "outputs": [
    {
     "data": {
      "text/plain": [
       "SyncCursorPage[ThreadMessage](data=[ThreadMessage(id='msg_4Qq1D1NG07DaBPMEDDlSzEHT', assistant_id='asst_xhtFHEjbvToftIYZN3QtKnnd', content=[MessageContentText(text=Text(annotations=[], value='```json\\n[\\n{\\n  \"Symbol\": \"VEOIX\",\\n  \"Asset Class\": \"Equity\",\\n  \"% Allocation\": \"48.90%\",\\n  \"Risk Level\":\"4\"\\n},\\n{\\n  \"Symbol\": \"VTIAX\",\\n  \"Asset Class\": \"Equity\",\\n  \"% Allocation\": \"31.80%\",\\n  \"Risk Level\":\"5\"\\n},\\n{\\n  \"Symbol\": \"VTBIX\",\\n  \"Asset Class\": \"Fixed Income\",\\n  \"% Allocation\": \"13.20%\",\\n  \"Risk Level\":\"2\"\\n},\\n{\\n  \"Symbol\": \"VTILX\",\\n  \"Asset Class\": \"Fixed Income\",\\n  \"% Allocation\": \"6.10%\",\\n  \"Risk Level\":\"2\"\\n}\\n]\\n```'), type='text')], created_at=1710392811, file_ids=[], metadata={}, object='thread.message', role='assistant', run_id='run_rAOyB4bWQyQgOOECchDqbxTt', thread_id='thread_t94KabsChayzLXVFd0FRLWsB'), ThreadMessage(id='msg_kx7ZiYMTcBcJr2kHwoX94bmr', assistant_id=None, content=[MessageContentText(text=Text(annotations=[], value='\\n\\nBaseline Portfolio\\n\"\"\"\\nSymbol : VTSAX\\nAsset Class : Equity\\n% Allocation : 48.90%\\nRisk Level : 4\\n\\nSymbol :  VTIAX\\nAsset Class : Equity\\n% Allocation : 31.80%\\nRisk Level : 5\\n\\nSymbol : VTBIX\\nAsset Class : Fixed Income\\n% Allocation : 13.20%\\nRisk Level : 2\\n\\nSymbol : VTILX\\nAsset Class : Fixed Income\\n% Allocation : 6.10%\\nRisk Level : 2\\n\"\"\"\\n\\nUser\\'s Investment Preferences\\n\"\"\"\\nI would like to invest in ESG funds that consider environmental, social, and governance issues.\\n\"\"\"\\n\\n'), type='text')], created_at=1710392793, file_ids=[], metadata={}, object='thread.message', role='user', run_id=None, thread_id='thread_t94KabsChayzLXVFd0FRLWsB')], object='list', first_id='msg_4Qq1D1NG07DaBPMEDDlSzEHT', last_id='msg_kx7ZiYMTcBcJr2kHwoX94bmr', has_more=False)"
      ]
     },
     "execution_count": 232,
     "metadata": {},
     "output_type": "execute_result"
    }
   ],
   "source": [
    "messages_list"
   ]
  },
  {
   "cell_type": "code",
   "execution_count": 238,
   "metadata": {},
   "outputs": [
    {
     "name": "stdout",
     "output_type": "stream",
     "text": [
      "```json\n",
      "[\n",
      "{\n",
      "  \"Symbol\": \"VEOIX\",\n",
      "  \"Asset Class\": \"Equity\",\n",
      "  \"% Allocation\": \"48.90%\",\n",
      "  \"Risk Level\":\"4\"\n",
      "},\n",
      "{\n",
      "  \"Symbol\": \"VTIAX\",\n",
      "  \"Asset Class\": \"Equity\",\n",
      "  \"% Allocation\": \"31.80%\",\n",
      "  \"Risk Level\":\"5\"\n",
      "},\n",
      "{\n",
      "  \"Symbol\": \"VTBIX\",\n",
      "  \"Asset Class\": \"Fixed Income\",\n",
      "  \"% Allocation\": \"13.20%\",\n",
      "  \"Risk Level\":\"2\"\n",
      "},\n",
      "{\n",
      "  \"Symbol\": \"VTILX\",\n",
      "  \"Asset Class\": \"Fixed Income\",\n",
      "  \"% Allocation\": \"6.10%\",\n",
      "  \"Risk Level\":\"2\"\n",
      "}\n",
      "]\n",
      "```\n"
     ]
    }
   ],
   "source": [
    "print(messages_list.data[0].content[0].text.value)"
   ]
  },
  {
   "cell_type": "code",
   "execution_count": null,
   "metadata": {},
   "outputs": [],
   "source": []
  },
  {
   "cell_type": "code",
   "execution_count": 113,
   "metadata": {},
   "outputs": [],
   "source": [
    "response = client.beta.threads.delete(thread_id=thread.id)\n"
   ]
  },
  {
   "cell_type": "code",
   "execution_count": 136,
   "metadata": {},
   "outputs": [],
   "source": [
    "answer = messages_list.data[0].content[0].text.value"
   ]
  },
  {
   "cell_type": "code",
   "execution_count": 137,
   "metadata": {},
   "outputs": [],
   "source": [
    "import json\n"
   ]
  },
  {
   "cell_type": "code",
   "execution_count": 139,
   "metadata": {},
   "outputs": [],
   "source": [
    "data = json.loads(answer)"
   ]
  },
  {
   "cell_type": "code",
   "execution_count": 141,
   "metadata": {},
   "outputs": [
    {
     "data": {
      "text/plain": [
       "{'Symbol': 'VTSAX',\n",
       " 'Asset Class': 'Equity',\n",
       " '% Allocation': '48.90%',\n",
       " 'Risk Level': '4'}"
      ]
     },
     "execution_count": 141,
     "metadata": {},
     "output_type": "execute_result"
    }
   ],
   "source": [
    "data[0]"
   ]
  },
  {
   "cell_type": "code",
   "execution_count": null,
   "metadata": {},
   "outputs": [],
   "source": []
  },
  {
   "cell_type": "code",
   "execution_count": 248,
   "metadata": {},
   "outputs": [],
   "source": [
    "def parse_json_markdown(json_string: str) -> list:\n",
    "    # Try to find JSON string within first and last triple backticks\n",
    "    match = re.search(r\"\"\"```       # match first occuring triple backticks\n",
    "                          (?:json)? # zero or one match of string json in non-capturing group\n",
    "                          (.*)```   # greedy match to last triple backticks\"\"\", json_string, flags=re.DOTALL|re.VERBOSE)\n",
    "\n",
    "    # If no match found, assume the entire string is a JSON string\n",
    "    if match is None:\n",
    "        json_str = json_string\n",
    "    else:\n",
    "        # If match found, use the content within the backticks\n",
    "        json_str = match.group(1)\n",
    "\n",
    "    # Strip whitespace and newlines from the start and end\n",
    "    json_str = json_str.strip()\n",
    "\n",
    "    # Parse the JSON string into a Python dictionary while allowing control characters by setting strict to False\n",
    "    parsed = json.loads(json_str, strict=False)\n",
    "\n",
    "    return parsed"
   ]
  },
  {
   "cell_type": "code",
   "execution_count": 249,
   "metadata": {},
   "outputs": [],
   "source": [
    "json_response = parse_json_markdown(json_string=messages_list.data[0].content[0].text.value)\n"
   ]
  },
  {
   "cell_type": "code",
   "execution_count": 251,
   "metadata": {},
   "outputs": [
    {
     "data": {
      "text/plain": [
       "[{'Symbol': 'VEOIX',\n",
       "  'Asset Class': 'Equity',\n",
       "  '% Allocation': '48.90%',\n",
       "  'Risk Level': '4'},\n",
       " {'Symbol': 'VTIAX',\n",
       "  'Asset Class': 'Equity',\n",
       "  '% Allocation': '31.80%',\n",
       "  'Risk Level': '5'},\n",
       " {'Symbol': 'VTBIX',\n",
       "  'Asset Class': 'Fixed Income',\n",
       "  '% Allocation': '13.20%',\n",
       "  'Risk Level': '2'},\n",
       " {'Symbol': 'VTILX',\n",
       "  'Asset Class': 'Fixed Income',\n",
       "  '% Allocation': '6.10%',\n",
       "  'Risk Level': '2'}]"
      ]
     },
     "execution_count": 251,
     "metadata": {},
     "output_type": "execute_result"
    }
   ],
   "source": [
    "json_response"
   ]
  },
  {
   "cell_type": "code",
   "execution_count": 250,
   "metadata": {},
   "outputs": [
    {
     "name": "stdout",
     "output_type": "stream",
     "text": [
      "{'Symbol': 'VEOIX', 'Asset Class': 'Equity', '% Allocation': '48.90%', 'Risk Level': '4'}\n",
      "{'Symbol': 'VTIAX', 'Asset Class': 'Equity', '% Allocation': '31.80%', 'Risk Level': '5'}\n",
      "{'Symbol': 'VTBIX', 'Asset Class': 'Fixed Income', '% Allocation': '13.20%', 'Risk Level': '2'}\n",
      "{'Symbol': 'VTILX', 'Asset Class': 'Fixed Income', '% Allocation': '6.10%', 'Risk Level': '2'}\n"
     ]
    }
   ],
   "source": [
    "for fund in json_response:\n",
    "    print(fund)"
   ]
  },
  {
   "cell_type": "code",
   "execution_count": null,
   "metadata": {},
   "outputs": [],
   "source": []
  }
 ],
 "metadata": {
  "kernelspec": {
   "display_name": "InvestoGPT",
   "language": "python",
   "name": "python3"
  },
  "language_info": {
   "codemirror_mode": {
    "name": "ipython",
    "version": 3
   },
   "file_extension": ".py",
   "mimetype": "text/x-python",
   "name": "python",
   "nbconvert_exporter": "python",
   "pygments_lexer": "ipython3",
   "version": "3.9.18"
  }
 },
 "nbformat": 4,
 "nbformat_minor": 2
}
